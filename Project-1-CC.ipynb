{
 "cells": [
  {
   "cell_type": "markdown",
   "metadata": {},
   "source": [
    "<img src=\"http://imgur.com/1ZcRyrc.png\" style=\"float: left; margin: 20px; height: 55px\">\n",
    "\n",
    "# Project 1: Python Coding Exercises\n",
    "\n",
    "_Authors: Joseph Nelson (DC) _\n",
    "\n",
    "---"
   ]
  },
  {
   "cell_type": "markdown",
   "metadata": {},
   "source": [
    "The following code challenges are drawn from common exercises used in technical interviews.\n",
    "\n",
    "Please note that there may be several ways to approach each challenge. If you get stuck, try mapping out your approach in pseudocode first. Finally, while solutions to problems like these may be found online, remember that if you copy/paste code that you can't explain, you'll be missing out on the point of the project. The only way to truly learn a new skill is through practice, trial, and error - we can only help you improve by understanding where you are having trouble."
   ]
  },
  {
   "cell_type": "markdown",
   "metadata": {},
   "source": [
    "### Challenge 1: Largest Palindrome\n",
    "A palindromic number reads the same both ways. For example, 1234321 is a palindrome. The largest palindrome made from the product of two two-digit numbers is 9009 = 91 × 99. Find the largest palindrome made from the product of two three-digit numbers. Afterward, write a brief explanation walking through your code's logic in markdown."
   ]
  },
  {
   "cell_type": "markdown",
   "metadata": {},
   "source": [
    "**Code Logic**\n",
    "***\n",
    "Line 1 creates a variable to hold the largest palindrome as I loop through multiple options\n",
    "***\n",
    "Line 2 Loops through a range of possible 3 digit numbers (100 to 999)\n",
    "***\n",
    "Line 3 Loops through another range of possible 3 digit numbers (100 to 999)\n",
    "***\n",
    "Line 4 is a variable num that holds the product of these two looping 3 digit * 3 digit values\n",
    "***\n",
    "Line 5 converts the product from line 4 to a string (to support the next step)\n",
    "***\n",
    "Line 6 creates a mirror image of Line 5 (reverse order of the string value)\n",
    "***\n",
    "Line 7 checks if the product is equal to the reverse order of the string\n",
    "***\n",
    "Line 8 checks if any true conditions from step 7 are larger than what is held in the variable 'largest (Line 1)'\n",
    "***\n",
    "Line 9 sets largest equal to the largest palindrome value if larger than 'largest' value\n",
    "***\n",
    "Line 10 After running the code once and getting the value 906609, I then ask it to return the x, y values that create a product equal to the largest palindromic value of 906609."
   ]
  },
  {
   "cell_type": "code",
   "execution_count": 1,
   "metadata": {},
   "outputs": [
    {
     "name": "stdout",
     "output_type": "stream",
     "text": [
      "The largest palindrome from two three-digit numbers is:  906609 = 913 x 993\n"
     ]
    }
   ],
   "source": [
    "largest = 0\n",
    "\n",
    "for x in range(100, 1000):\n",
    "    for y in range(100, 1000):\n",
    "        num = x * y\n",
    "        str_num = str(num)\n",
    "        rev_str=str_num[::-1]\n",
    "        if str_num == rev_str:\n",
    "            if num>largest:\n",
    "                largest=num\n",
    "                if largest == 906609:\n",
    "                    print('The largest palindrome from two three-digit numbers is: ', largest, '=', x, 'x', y)\n",
    "            "
   ]
  },
  {
   "cell_type": "markdown",
   "metadata": {},
   "source": [
    "\n",
    "### Challenge 2: Summation of Primes\n",
    "The sum of the primes below 10 is 2 + 3 + 5 + 7 = 17. Find the sum of all the primes below 2,000. Afterward, write a brief explanation walking through your code's logic in markdown."
   ]
  },
  {
   "cell_type": "markdown",
   "metadata": {},
   "source": [
    "**Code Logic**\n",
    "***\n",
    "Line 1 - the variable 2000\n",
    "***\n",
    "Line 2 - creating a list to store all identified primes\n",
    "***\n",
    "Line 3 - sum counter for any primes identified - set to 0\n",
    "***\n",
    "Line 4 - initial loop for items 2 to 2000 (value of num variable)\n",
    "***\n",
    "Line 5 - Set prime to True as we test the negative case\n",
    "***\n",
    "Line 6 - inner loop to create range from 2 to n\n",
    "***\n",
    "Line 7 - test case of whether n / i has a remainder (for any value < n and > 1 this leads to a <> = Prime case)\n",
    "***\n",
    "Line 8 - If Line 7 - true then Prime = No\n",
    "***\n",
    "Line 9 - If Line 7 - false (i.e., all iterations of n % i have remainders then\n",
    "***\n",
    "Line 10 - add that iteration of n to the list 'prime_list'\n",
    "***\n",
    "Line 11 - add n to the sum variable to add values of all priems\n",
    "***\n",
    "Line 12/13 - Print out variables (prime_list and sum)"
   ]
  },
  {
   "cell_type": "code",
   "execution_count": 218,
   "metadata": {},
   "outputs": [
    {
     "name": "stdout",
     "output_type": "stream",
     "text": [
      "[2, 3, 5, 7, 11, 13, 17, 19, 23, 29, 31, 37, 41, 43, 47, 53, 59, 61, 67, 71, 73, 79, 83, 89, 97, 101, 103, 107, 109, 113, 127, 131, 137, 139, 149, 151, 157, 163, 167, 173, 179, 181, 191, 193, 197, 199, 211, 223, 227, 229, 233, 239, 241, 251, 257, 263, 269, 271, 277, 281, 283, 293, 307, 311, 313, 317, 331, 337, 347, 349, 353, 359, 367, 373, 379, 383, 389, 397, 401, 409, 419, 421, 431, 433, 439, 443, 449, 457, 461, 463, 467, 479, 487, 491, 499, 503, 509, 521, 523, 541, 547, 557, 563, 569, 571, 577, 587, 593, 599, 601, 607, 613, 617, 619, 631, 641, 643, 647, 653, 659, 661, 673, 677, 683, 691, 701, 709, 719, 727, 733, 739, 743, 751, 757, 761, 769, 773, 787, 797, 809, 811, 821, 823, 827, 829, 839, 853, 857, 859, 863, 877, 881, 883, 887, 907, 911, 919, 929, 937, 941, 947, 953, 967, 971, 977, 983, 991, 997, 1009, 1013, 1019, 1021, 1031, 1033, 1039, 1049, 1051, 1061, 1063, 1069, 1087, 1091, 1093, 1097, 1103, 1109, 1117, 1123, 1129, 1151, 1153, 1163, 1171, 1181, 1187, 1193, 1201, 1213, 1217, 1223, 1229, 1231, 1237, 1249, 1259, 1277, 1279, 1283, 1289, 1291, 1297, 1301, 1303, 1307, 1319, 1321, 1327, 1361, 1367, 1373, 1381, 1399, 1409, 1423, 1427, 1429, 1433, 1439, 1447, 1451, 1453, 1459, 1471, 1481, 1483, 1487, 1489, 1493, 1499, 1511, 1523, 1531, 1543, 1549, 1553, 1559, 1567, 1571, 1579, 1583, 1597, 1601, 1607, 1609, 1613, 1619, 1621, 1627, 1637, 1657, 1663, 1667, 1669, 1693, 1697, 1699, 1709, 1721, 1723, 1733, 1741, 1747, 1753, 1759, 1777, 1783, 1787, 1789, 1801, 1811, 1823, 1831, 1847, 1861, 1867, 1871, 1873, 1877, 1879, 1889, 1901, 1907, 1913, 1931, 1933, 1949, 1951, 1973, 1979, 1987, 1993, 1997, 1999]\n",
      "\n",
      "277050\n"
     ]
    }
   ],
   "source": [
    "num = 2000\n",
    "prime_list = []\n",
    "sum=0\n",
    "\n",
    "for n in range(2, num):\n",
    "    prime=True\n",
    "    for i in range(2, n):\n",
    "        if (n % i) == 0:\n",
    "            prime=False\n",
    "\n",
    "    if (prime):\n",
    "        prime_list.append(n)\n",
    "        sum = sum + n\n",
    "        \n",
    "print(prime_list)\n",
    "print(\"\")\n",
    "print(sum)"
   ]
  },
  {
   "cell_type": "markdown",
   "metadata": {},
   "source": [
    "### Challenge 3: Multiples of 3 and 5\n",
    "If we list all of the natural numbers below 10 that are multiples of 3 or 5, we get 3, 5, 6, and 9. The sum of these multiples is 23. Find the sum of all the multiples of 3 and 5 below 1,000. Afterward, write a brief explanation walking through your code's logic in markdown."
   ]
  },
  {
   "cell_type": "markdown",
   "metadata": {},
   "source": [
    "**Code Logic**\n",
    "***\n",
    "Line 1 creates a list variable\n",
    "***\n",
    "Line 2 creates a variable for the sum of all numbers and sets it to 0\n",
    "***\n",
    "Line 3 creates a loop from the values in a range(1 to 999)(i.e., 'below 1000)\n",
    "***\n",
    "Line 4 checks if the num in the loop (i.e., 1, 2, 3, etc.) is divisible by 3 or 5 with no remainder\n",
    "***\n",
    "Line 5 if line 4 = true then this value is appended to the variable: list_of_multiples(line 1)\n",
    "***\n",
    "Line 6 the variable holding the sum of all values in list_of_multples is updated to include the value in the sum of all multiples\n",
    "***\n",
    "Line 7 the list of all multiples of 3 or 5 is printed\n",
    "***\n",
    "Line 8 print a space to help ID the item in line 9\n",
    "***\n",
    "Line 9 the value of the sum of all numbers in line 7 is printed"
   ]
  },
  {
   "cell_type": "code",
   "execution_count": 2,
   "metadata": {},
   "outputs": [
    {
     "name": "stdout",
     "output_type": "stream",
     "text": [
      "[3, 5, 6, 9, 10, 12, 15, 18, 20, 21, 24, 25, 27, 30, 33, 35, 36, 39, 40, 42, 45, 48, 50, 51, 54, 55, 57, 60, 63, 65, 66, 69, 70, 72, 75, 78, 80, 81, 84, 85, 87, 90, 93, 95, 96, 99, 100, 102, 105, 108, 110, 111, 114, 115, 117, 120, 123, 125, 126, 129, 130, 132, 135, 138, 140, 141, 144, 145, 147, 150, 153, 155, 156, 159, 160, 162, 165, 168, 170, 171, 174, 175, 177, 180, 183, 185, 186, 189, 190, 192, 195, 198, 200, 201, 204, 205, 207, 210, 213, 215, 216, 219, 220, 222, 225, 228, 230, 231, 234, 235, 237, 240, 243, 245, 246, 249, 250, 252, 255, 258, 260, 261, 264, 265, 267, 270, 273, 275, 276, 279, 280, 282, 285, 288, 290, 291, 294, 295, 297, 300, 303, 305, 306, 309, 310, 312, 315, 318, 320, 321, 324, 325, 327, 330, 333, 335, 336, 339, 340, 342, 345, 348, 350, 351, 354, 355, 357, 360, 363, 365, 366, 369, 370, 372, 375, 378, 380, 381, 384, 385, 387, 390, 393, 395, 396, 399, 400, 402, 405, 408, 410, 411, 414, 415, 417, 420, 423, 425, 426, 429, 430, 432, 435, 438, 440, 441, 444, 445, 447, 450, 453, 455, 456, 459, 460, 462, 465, 468, 470, 471, 474, 475, 477, 480, 483, 485, 486, 489, 490, 492, 495, 498, 500, 501, 504, 505, 507, 510, 513, 515, 516, 519, 520, 522, 525, 528, 530, 531, 534, 535, 537, 540, 543, 545, 546, 549, 550, 552, 555, 558, 560, 561, 564, 565, 567, 570, 573, 575, 576, 579, 580, 582, 585, 588, 590, 591, 594, 595, 597, 600, 603, 605, 606, 609, 610, 612, 615, 618, 620, 621, 624, 625, 627, 630, 633, 635, 636, 639, 640, 642, 645, 648, 650, 651, 654, 655, 657, 660, 663, 665, 666, 669, 670, 672, 675, 678, 680, 681, 684, 685, 687, 690, 693, 695, 696, 699, 700, 702, 705, 708, 710, 711, 714, 715, 717, 720, 723, 725, 726, 729, 730, 732, 735, 738, 740, 741, 744, 745, 747, 750, 753, 755, 756, 759, 760, 762, 765, 768, 770, 771, 774, 775, 777, 780, 783, 785, 786, 789, 790, 792, 795, 798, 800, 801, 804, 805, 807, 810, 813, 815, 816, 819, 820, 822, 825, 828, 830, 831, 834, 835, 837, 840, 843, 845, 846, 849, 850, 852, 855, 858, 860, 861, 864, 865, 867, 870, 873, 875, 876, 879, 880, 882, 885, 888, 890, 891, 894, 895, 897, 900, 903, 905, 906, 909, 910, 912, 915, 918, 920, 921, 924, 925, 927, 930, 933, 935, 936, 939, 940, 942, 945, 948, 950, 951, 954, 955, 957, 960, 963, 965, 966, 969, 970, 972, 975, 978, 980, 981, 984, 985, 987, 990, 993, 995, 996, 999]\n",
      "\n",
      "233168\n"
     ]
    }
   ],
   "source": [
    "list_of_multiples = []\n",
    "sum_num = 0\n",
    "\n",
    "for num in list(range(1,1000)):\n",
    "    if (num%3==0) or (num%5==0):\n",
    "        list_of_multiples.append(num)\n",
    "        sum_num = sum_num + num\n",
    "\n",
    "print(list_of_multiples)\n",
    "print(\"\")\n",
    "print(sum_num)"
   ]
  },
  {
   "cell_type": "markdown",
   "metadata": {},
   "source": [
    "### Challenge 4: String Compressor\n",
    "Implement a method to perform basic string compression using the counts of repeated characters. (This is called run-length encoding.) For example, the string \"aabcccccaaa\" would become a2b1c5a3. If the “compressed” string would not become smaller than the original string, your method should return the original string. You can assume the string has only uppercase and lowercase letters (a–z). Specify whether your solution is case sensitive or case insensitive and what you would need to change to make it the other. Afterward, write a brief explanation walking through your code's logic in markdown."
   ]
  },
  {
   "cell_type": "markdown",
   "metadata": {},
   "source": [
    "**Code Logic**\n",
    "***\n",
    "Line 1-4, variables for the input string to be run-length encoded, **a conversion to lowercase so only lowecase variables are considered**, the variable 'compressed' to hold the run-length encoded string as well as the counter/incrementer, repeated.\n",
    "***\n",
    "Line 5 is a loop from range 1 to the length of the input string to be run-length encoded\n",
    "***\n",
    "Line 6 checks the variable i to the string position before i (i-1) to see if they are the same\n",
    "***\n",
    "Line 7 if they are the same the variable repeated is incremented by 1\n",
    "***\n",
    "Line 8 otherwise if they are not the same (line5)\n",
    "***\n",
    "Line 9 adds the string position [i-1] and the repeated value to the compressed string\n",
    "***\n",
    "Line 10 resets the repeated to 1\n",
    "***\n",
    "Line 11 as a final step after the looping through all string positions, a final addition of the last string position and the repeated count are added\n",
    "***\n",
    "Line 12 - 15 return the shorted of the two strings (string vs. compressed) based on length of the string"
   ]
  },
  {
   "cell_type": "code",
   "execution_count": 232,
   "metadata": {},
   "outputs": [
    {
     "name": "stdout",
     "output_type": "stream",
     "text": [
      "c2a3c2b1c2\n"
     ]
    }
   ],
   "source": [
    "string='CCaaaccBcc'\n",
    "string_convert = string.lower()\n",
    "compressed=''\n",
    "repeated = 1\n",
    "\n",
    "for i in range(1,len(string_convert)):\n",
    "    if string_convert[i-1] == string_convert[i]:\n",
    "        repeated = repeated + 1\n",
    "    else:\n",
    "        compressed = compressed + string_convert[i-1] + str(repeated)\n",
    "        repeated = 1\n",
    "compressed = compressed + string_convert[i] + str(repeated)\n",
    "\n",
    "\n",
    "if len(string_convert) < len(compressed):\n",
    "    print(string_convert)\n",
    "else:\n",
    "    print(compressed)"
   ]
  },
  {
   "cell_type": "markdown",
   "metadata": {},
   "source": [
    "### *BONUS* Challenge: FizzBuzz\n",
    "Write a program that prints all of the numbers from 1 to 100. For multiples of 3, instead of the number, print \"Fizz;\" for multiples of 5, print \"Buzz.\" For numbers that are multiples of both 3 and 5, print \"FizzBuzz.\" Afterward, write a brief explanation walking through your code's logic in markdown."
   ]
  },
  {
   "cell_type": "markdown",
   "metadata": {},
   "source": [
    "**Code Logic**\n",
    "Line 1 create a variable loop through values 1 to 100\n",
    "Line 2 checks if that value (num) is divisible by 3 and 5 with no remainder (i.e., multiples of 3 and 5)\n",
    "Line 3 if line 2 = true then print'FizzBuzz'\n",
    "Line 4 if line 2 = false but the value (num) is divisible by just 3 with no remainder (i.e., a multiple of just 3)\n",
    "Line 5 if line 4 = true then it prints 'Fizz'\n",
    "Line 6 if neither line 2 or 4 is true but num is divisible by just 5 with no remainder(i.e., a multiple of just 5)\n",
    "Line 7 if line 6 is true then print 'Buzz'\n",
    "Line 8 if neither 2, 4 or 6 is true\n",
    "Line 9 print the value (numbers between 1 and 100 that are not divisible by 3 or 5)"
   ]
  },
  {
   "cell_type": "code",
   "execution_count": 213,
   "metadata": {},
   "outputs": [
    {
     "name": "stdout",
     "output_type": "stream",
     "text": [
      "1\n",
      "2\n",
      "Fizz\n",
      "4\n",
      "Buzz\n",
      "Fizz\n",
      "7\n",
      "8\n",
      "Fizz\n",
      "Buzz\n",
      "11\n",
      "Fizz\n",
      "13\n",
      "14\n",
      "FizzBuzz\n",
      "16\n",
      "17\n",
      "Fizz\n",
      "19\n",
      "Buzz\n",
      "Fizz\n",
      "22\n",
      "23\n",
      "Fizz\n",
      "Buzz\n",
      "26\n",
      "Fizz\n",
      "28\n",
      "29\n",
      "FizzBuzz\n",
      "31\n",
      "32\n",
      "Fizz\n",
      "34\n",
      "Buzz\n",
      "Fizz\n",
      "37\n",
      "38\n",
      "Fizz\n",
      "Buzz\n",
      "41\n",
      "Fizz\n",
      "43\n",
      "44\n",
      "FizzBuzz\n",
      "46\n",
      "47\n",
      "Fizz\n",
      "49\n",
      "Buzz\n",
      "Fizz\n",
      "52\n",
      "53\n",
      "Fizz\n",
      "Buzz\n",
      "56\n",
      "Fizz\n",
      "58\n",
      "59\n",
      "FizzBuzz\n",
      "61\n",
      "62\n",
      "Fizz\n",
      "64\n",
      "Buzz\n",
      "Fizz\n",
      "67\n",
      "68\n",
      "Fizz\n",
      "Buzz\n",
      "71\n",
      "Fizz\n",
      "73\n",
      "74\n",
      "FizzBuzz\n",
      "76\n",
      "77\n",
      "Fizz\n",
      "79\n",
      "Buzz\n",
      "Fizz\n",
      "82\n",
      "83\n",
      "Fizz\n",
      "Buzz\n",
      "86\n",
      "Fizz\n",
      "88\n",
      "89\n",
      "FizzBuzz\n",
      "91\n",
      "92\n",
      "Fizz\n",
      "94\n",
      "Buzz\n",
      "Fizz\n",
      "97\n",
      "98\n",
      "Fizz\n",
      "Buzz\n"
     ]
    }
   ],
   "source": [
    "for num in list(range(1,101)):\n",
    "    if (num % 3 == 0) and (num % 5 == 0):\n",
    "        print(\"FizzBuzz\")\n",
    "    elif (num % 3 == 0):\n",
    "        print(\"Fizz\")\n",
    "    elif (num % 5 == 0):\n",
    "        print(\"Buzz\")\n",
    "    else:\n",
    "        print(num)\n"
   ]
  },
  {
   "cell_type": "code",
   "execution_count": null,
   "metadata": {},
   "outputs": [],
   "source": []
  }
 ],
 "metadata": {
  "anaconda-cloud": {},
  "kernelspec": {
   "display_name": "Python 3",
   "language": "python",
   "name": "python3"
  },
  "language_info": {
   "codemirror_mode": {
    "name": "ipython",
    "version": 3
   },
   "file_extension": ".py",
   "mimetype": "text/x-python",
   "name": "python",
   "nbconvert_exporter": "python",
   "pygments_lexer": "ipython3",
   "version": "3.6.4"
  }
 },
 "nbformat": 4,
 "nbformat_minor": 2
}
